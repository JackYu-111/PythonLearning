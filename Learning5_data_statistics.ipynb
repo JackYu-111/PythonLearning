{
 "cells": [
  {
   "cell_type": "code",
   "execution_count": 1,
   "id": "f28a01ce-0e63-4424-9351-51f268ce2d32",
   "metadata": {},
   "outputs": [],
   "source": [
    "import pandas as pd"
   ]
  },
  {
   "cell_type": "code",
   "execution_count": 3,
   "id": "8e51be22-40c3-4cac-b6f8-d7f290bd022a",
   "metadata": {},
   "outputs": [],
   "source": [
    "fpath= './complex_students_2025_2.csv'\n",
    "df_students = pd.read_csv(fpath)"
   ]
  },
  {
   "cell_type": "code",
   "execution_count": 5,
   "id": "3985298b-77c3-4e72-aa1e-8cd37351c6b5",
   "metadata": {},
   "outputs": [
    {
     "data": {
      "text/html": [
       "<div>\n",
       "<style scoped>\n",
       "    .dataframe tbody tr th:only-of-type {\n",
       "        vertical-align: middle;\n",
       "    }\n",
       "\n",
       "    .dataframe tbody tr th {\n",
       "        vertical-align: top;\n",
       "    }\n",
       "\n",
       "    .dataframe thead th {\n",
       "        text-align: right;\n",
       "    }\n",
       "</style>\n",
       "<table border=\"1\" class=\"dataframe\">\n",
       "  <thead>\n",
       "    <tr style=\"text-align: right;\">\n",
       "      <th></th>\n",
       "      <th>Student_ID</th>\n",
       "      <th>First_Name</th>\n",
       "      <th>Last_Name</th>\n",
       "      <th>Full_Name</th>\n",
       "      <th>Gender</th>\n",
       "      <th>Birth_Date</th>\n",
       "      <th>Age</th>\n",
       "      <th>Enrollment_Date</th>\n",
       "      <th>Graduation_Date</th>\n",
       "      <th>Major</th>\n",
       "      <th>GPA</th>\n",
       "      <th>Math_Score</th>\n",
       "      <th>Math_Grade</th>\n",
       "      <th>English_Score</th>\n",
       "      <th>English_Grade</th>\n",
       "      <th>City</th>\n",
       "      <th>Extracurricular</th>\n",
       "      <th>Scholarship_Amount</th>\n",
       "      <th>Attendance_Rate</th>\n",
       "      <th>Year</th>\n",
       "    </tr>\n",
       "  </thead>\n",
       "  <tbody>\n",
       "    <tr>\n",
       "      <th>0</th>\n",
       "      <td>0001-2025</td>\n",
       "      <td>Alex</td>\n",
       "      <td>Chan</td>\n",
       "      <td>Alex Chan</td>\n",
       "      <td>M</td>\n",
       "      <td>2002-03-15</td>\n",
       "      <td>23</td>\n",
       "      <td>2022-09-01</td>\n",
       "      <td>2026-06-30</td>\n",
       "      <td>Computer Science</td>\n",
       "      <td>3.45</td>\n",
       "      <td>85</td>\n",
       "      <td>B</td>\n",
       "      <td>78</td>\n",
       "      <td>B</td>\n",
       "      <td>Hong Kong</td>\n",
       "      <td>Sports</td>\n",
       "      <td>20000</td>\n",
       "      <td>0.92</td>\n",
       "      <td>NaN</td>\n",
       "    </tr>\n",
       "    <tr>\n",
       "      <th>1</th>\n",
       "      <td>0002-2025</td>\n",
       "      <td>Bella</td>\n",
       "      <td>Li</td>\n",
       "      <td>Bella Li</td>\n",
       "      <td>F</td>\n",
       "      <td>2001-07-22</td>\n",
       "      <td>23</td>\n",
       "      <td>2023-08-15</td>\n",
       "      <td>2027-06-30</td>\n",
       "      <td>Physics</td>\n",
       "      <td>3.82</td>\n",
       "      <td>92</td>\n",
       "      <td>A</td>\n",
       "      <td>88</td>\n",
       "      <td>B</td>\n",
       "      <td>Shanghai</td>\n",
       "      <td>Music</td>\n",
       "      <td>30000</td>\n",
       "      <td>0.95</td>\n",
       "      <td>NaN</td>\n",
       "    </tr>\n",
       "  </tbody>\n",
       "</table>\n",
       "</div>"
      ],
      "text/plain": [
       "  Student_ID First_Name Last_Name  Full_Name Gender  Birth_Date  Age  \\\n",
       "0  0001-2025       Alex      Chan  Alex Chan      M  2002-03-15   23   \n",
       "1  0002-2025      Bella        Li   Bella Li      F  2001-07-22   23   \n",
       "\n",
       "  Enrollment_Date Graduation_Date             Major   GPA  Math_Score  \\\n",
       "0      2022-09-01      2026-06-30  Computer Science  3.45          85   \n",
       "1      2023-08-15      2027-06-30           Physics  3.82          92   \n",
       "\n",
       "  Math_Grade  English_Score English_Grade       City Extracurricular  \\\n",
       "0          B             78             B  Hong Kong          Sports   \n",
       "1          A             88             B   Shanghai           Music   \n",
       "\n",
       "   Scholarship_Amount  Attendance_Rate  Year  \n",
       "0               20000             0.92   NaN  \n",
       "1               30000             0.95   NaN  "
      ]
     },
     "execution_count": 5,
     "metadata": {},
     "output_type": "execute_result"
    }
   ],
   "source": [
    "df_students.head(2)"
   ]
  },
  {
   "cell_type": "code",
   "execution_count": 6,
   "id": "d3e42a0d-99b2-42df-85fb-34e5eb2ffeae",
   "metadata": {},
   "outputs": [
    {
     "data": {
      "text/plain": [
       "0    NaN\n",
       "1    NaN\n",
       "2    NaN\n",
       "3    NaN\n",
       "4    NaN\n",
       "      ..\n",
       "95   NaN\n",
       "96   NaN\n",
       "97   NaN\n",
       "98   NaN\n",
       "99   NaN\n",
       "Name: Year, Length: 100, dtype: float64"
      ]
     },
     "execution_count": 6,
     "metadata": {},
     "output_type": "execute_result"
    }
   ],
   "source": [
    "df_students.pop('Year')"
   ]
  },
  {
   "cell_type": "code",
   "execution_count": 7,
   "id": "ebaa21fa-2b7a-4a19-be69-495068d98d6a",
   "metadata": {},
   "outputs": [
    {
     "data": {
      "text/html": [
       "<div>\n",
       "<style scoped>\n",
       "    .dataframe tbody tr th:only-of-type {\n",
       "        vertical-align: middle;\n",
       "    }\n",
       "\n",
       "    .dataframe tbody tr th {\n",
       "        vertical-align: top;\n",
       "    }\n",
       "\n",
       "    .dataframe thead th {\n",
       "        text-align: right;\n",
       "    }\n",
       "</style>\n",
       "<table border=\"1\" class=\"dataframe\">\n",
       "  <thead>\n",
       "    <tr style=\"text-align: right;\">\n",
       "      <th></th>\n",
       "      <th>Student_ID</th>\n",
       "      <th>First_Name</th>\n",
       "      <th>Last_Name</th>\n",
       "      <th>Full_Name</th>\n",
       "      <th>Gender</th>\n",
       "      <th>Birth_Date</th>\n",
       "      <th>Age</th>\n",
       "      <th>Enrollment_Date</th>\n",
       "      <th>Graduation_Date</th>\n",
       "      <th>Major</th>\n",
       "      <th>GPA</th>\n",
       "      <th>Math_Score</th>\n",
       "      <th>Math_Grade</th>\n",
       "      <th>English_Score</th>\n",
       "      <th>English_Grade</th>\n",
       "      <th>City</th>\n",
       "      <th>Extracurricular</th>\n",
       "      <th>Scholarship_Amount</th>\n",
       "      <th>Attendance_Rate</th>\n",
       "    </tr>\n",
       "  </thead>\n",
       "  <tbody>\n",
       "    <tr>\n",
       "      <th>0</th>\n",
       "      <td>0001-2025</td>\n",
       "      <td>Alex</td>\n",
       "      <td>Chan</td>\n",
       "      <td>Alex Chan</td>\n",
       "      <td>M</td>\n",
       "      <td>2002-03-15</td>\n",
       "      <td>23</td>\n",
       "      <td>2022-09-01</td>\n",
       "      <td>2026-06-30</td>\n",
       "      <td>Computer Science</td>\n",
       "      <td>3.45</td>\n",
       "      <td>85</td>\n",
       "      <td>B</td>\n",
       "      <td>78</td>\n",
       "      <td>B</td>\n",
       "      <td>Hong Kong</td>\n",
       "      <td>Sports</td>\n",
       "      <td>20000</td>\n",
       "      <td>0.92</td>\n",
       "    </tr>\n",
       "    <tr>\n",
       "      <th>1</th>\n",
       "      <td>0002-2025</td>\n",
       "      <td>Bella</td>\n",
       "      <td>Li</td>\n",
       "      <td>Bella Li</td>\n",
       "      <td>F</td>\n",
       "      <td>2001-07-22</td>\n",
       "      <td>23</td>\n",
       "      <td>2023-08-15</td>\n",
       "      <td>2027-06-30</td>\n",
       "      <td>Physics</td>\n",
       "      <td>3.82</td>\n",
       "      <td>92</td>\n",
       "      <td>A</td>\n",
       "      <td>88</td>\n",
       "      <td>B</td>\n",
       "      <td>Shanghai</td>\n",
       "      <td>Music</td>\n",
       "      <td>30000</td>\n",
       "      <td>0.95</td>\n",
       "    </tr>\n",
       "  </tbody>\n",
       "</table>\n",
       "</div>"
      ],
      "text/plain": [
       "  Student_ID First_Name Last_Name  Full_Name Gender  Birth_Date  Age  \\\n",
       "0  0001-2025       Alex      Chan  Alex Chan      M  2002-03-15   23   \n",
       "1  0002-2025      Bella        Li   Bella Li      F  2001-07-22   23   \n",
       "\n",
       "  Enrollment_Date Graduation_Date             Major   GPA  Math_Score  \\\n",
       "0      2022-09-01      2026-06-30  Computer Science  3.45          85   \n",
       "1      2023-08-15      2027-06-30           Physics  3.82          92   \n",
       "\n",
       "  Math_Grade  English_Score English_Grade       City Extracurricular  \\\n",
       "0          B             78             B  Hong Kong          Sports   \n",
       "1          A             88             B   Shanghai           Music   \n",
       "\n",
       "   Scholarship_Amount  Attendance_Rate  \n",
       "0               20000             0.92  \n",
       "1               30000             0.95  "
      ]
     },
     "execution_count": 7,
     "metadata": {},
     "output_type": "execute_result"
    }
   ],
   "source": [
    "df_students.head(2)"
   ]
  },
  {
   "cell_type": "code",
   "execution_count": 8,
   "id": "3257742f-7775-4781-9e15-33856ffa0978",
   "metadata": {},
   "outputs": [
    {
     "data": {
      "text/html": [
       "<div>\n",
       "<style scoped>\n",
       "    .dataframe tbody tr th:only-of-type {\n",
       "        vertical-align: middle;\n",
       "    }\n",
       "\n",
       "    .dataframe tbody tr th {\n",
       "        vertical-align: top;\n",
       "    }\n",
       "\n",
       "    .dataframe thead th {\n",
       "        text-align: right;\n",
       "    }\n",
       "</style>\n",
       "<table border=\"1\" class=\"dataframe\">\n",
       "  <thead>\n",
       "    <tr style=\"text-align: right;\">\n",
       "      <th></th>\n",
       "      <th>Age</th>\n",
       "      <th>GPA</th>\n",
       "      <th>Math_Score</th>\n",
       "      <th>English_Score</th>\n",
       "      <th>Scholarship_Amount</th>\n",
       "      <th>Attendance_Rate</th>\n",
       "    </tr>\n",
       "  </thead>\n",
       "  <tbody>\n",
       "    <tr>\n",
       "      <th>count</th>\n",
       "      <td>100.000000</td>\n",
       "      <td>100.000000</td>\n",
       "      <td>100.000000</td>\n",
       "      <td>100.000000</td>\n",
       "      <td>100.000000</td>\n",
       "      <td>100.000000</td>\n",
       "    </tr>\n",
       "    <tr>\n",
       "      <th>mean</th>\n",
       "      <td>22.490000</td>\n",
       "      <td>3.376900</td>\n",
       "      <td>83.660000</td>\n",
       "      <td>78.750000</td>\n",
       "      <td>19150.000000</td>\n",
       "      <td>0.907000</td>\n",
       "    </tr>\n",
       "    <tr>\n",
       "      <th>std</th>\n",
       "      <td>1.417745</td>\n",
       "      <td>0.379289</td>\n",
       "      <td>8.125555</td>\n",
       "      <td>8.202457</td>\n",
       "      <td>12654.200405</td>\n",
       "      <td>0.030863</td>\n",
       "    </tr>\n",
       "    <tr>\n",
       "      <th>min</th>\n",
       "      <td>20.000000</td>\n",
       "      <td>2.730000</td>\n",
       "      <td>69.000000</td>\n",
       "      <td>64.000000</td>\n",
       "      <td>0.000000</td>\n",
       "      <td>0.850000</td>\n",
       "    </tr>\n",
       "    <tr>\n",
       "      <th>25%</th>\n",
       "      <td>21.000000</td>\n",
       "      <td>2.987500</td>\n",
       "      <td>76.750000</td>\n",
       "      <td>71.750000</td>\n",
       "      <td>10000.000000</td>\n",
       "      <td>0.880000</td>\n",
       "    </tr>\n",
       "    <tr>\n",
       "      <th>50%</th>\n",
       "      <td>22.500000</td>\n",
       "      <td>3.420000</td>\n",
       "      <td>84.500000</td>\n",
       "      <td>79.500000</td>\n",
       "      <td>20000.000000</td>\n",
       "      <td>0.910000</td>\n",
       "    </tr>\n",
       "    <tr>\n",
       "      <th>75%</th>\n",
       "      <td>24.000000</td>\n",
       "      <td>3.725000</td>\n",
       "      <td>91.000000</td>\n",
       "      <td>86.000000</td>\n",
       "      <td>30000.000000</td>\n",
       "      <td>0.940000</td>\n",
       "    </tr>\n",
       "    <tr>\n",
       "      <th>max</th>\n",
       "      <td>25.000000</td>\n",
       "      <td>3.940000</td>\n",
       "      <td>96.000000</td>\n",
       "      <td>91.000000</td>\n",
       "      <td>40000.000000</td>\n",
       "      <td>0.950000</td>\n",
       "    </tr>\n",
       "  </tbody>\n",
       "</table>\n",
       "</div>"
      ],
      "text/plain": [
       "              Age         GPA  Math_Score  English_Score  Scholarship_Amount  \\\n",
       "count  100.000000  100.000000  100.000000     100.000000          100.000000   \n",
       "mean    22.490000    3.376900   83.660000      78.750000        19150.000000   \n",
       "std      1.417745    0.379289    8.125555       8.202457        12654.200405   \n",
       "min     20.000000    2.730000   69.000000      64.000000            0.000000   \n",
       "25%     21.000000    2.987500   76.750000      71.750000        10000.000000   \n",
       "50%     22.500000    3.420000   84.500000      79.500000        20000.000000   \n",
       "75%     24.000000    3.725000   91.000000      86.000000        30000.000000   \n",
       "max     25.000000    3.940000   96.000000      91.000000        40000.000000   \n",
       "\n",
       "       Attendance_Rate  \n",
       "count       100.000000  \n",
       "mean          0.907000  \n",
       "std           0.030863  \n",
       "min           0.850000  \n",
       "25%           0.880000  \n",
       "50%           0.910000  \n",
       "75%           0.940000  \n",
       "max           0.950000  "
      ]
     },
     "execution_count": 8,
     "metadata": {},
     "output_type": "execute_result"
    }
   ],
   "source": [
    "df_students.describe()"
   ]
  },
  {
   "cell_type": "code",
   "execution_count": 10,
   "id": "19bbc6ec-62c8-42ae-9d0f-4bb9237420a2",
   "metadata": {},
   "outputs": [
    {
     "data": {
      "text/plain": [
       "0.907"
      ]
     },
     "execution_count": 10,
     "metadata": {},
     "output_type": "execute_result"
    }
   ],
   "source": [
    "# mean of students' attendance rate\n",
    "df_students['Attendance_Rate'].mean()"
   ]
  },
  {
   "cell_type": "code",
   "execution_count": 11,
   "id": "59aaaae8-74ed-48c9-b04a-9c28a9e38dad",
   "metadata": {},
   "outputs": [
    {
     "data": {
      "text/plain": [
       "0    70\n",
       "1    87\n",
       "2    90\n",
       "3    91\n",
       "4    94\n",
       "Name: Math_Score, dtype: int64"
      ]
     },
     "execution_count": 11,
     "metadata": {},
     "output_type": "execute_result"
    }
   ],
   "source": [
    "# mode of students' Math_Score\n",
    "df_students['Math_Score'].mode()"
   ]
  },
  {
   "cell_type": "code",
   "execution_count": 12,
   "id": "258f2666-ec94-4b23-8890-b4d8fba33150",
   "metadata": {},
   "outputs": [
    {
     "data": {
      "text/plain": [
       "Math_Score\n",
       "70    5\n",
       "87    5\n",
       "94    5\n",
       "90    5\n",
       "91    5\n",
       "93    4\n",
       "92    4\n",
       "83    4\n",
       "96    4\n",
       "74    4\n",
       "79    4\n",
       "81    4\n",
       "86    4\n",
       "71    4\n",
       "72    4\n",
       "89    4\n",
       "82    4\n",
       "80    4\n",
       "95    4\n",
       "75    4\n",
       "88    3\n",
       "85    3\n",
       "78    2\n",
       "84    2\n",
       "76    2\n",
       "77    1\n",
       "69    1\n",
       "73    1\n",
       "Name: count, dtype: int64"
      ]
     },
     "execution_count": 12,
     "metadata": {},
     "output_type": "execute_result"
    }
   ],
   "source": [
    "df_students['Math_Score'].value_counts()"
   ]
  },
  {
   "cell_type": "code",
   "execution_count": 15,
   "id": "e3ffec78-dfaa-4dea-af2c-9e6136a22136",
   "metadata": {},
   "outputs": [
    {
     "name": "stdout",
     "output_type": "stream",
     "text": [
      "['Computer Science' 'Physics' 'Mathematics' 'Biology' 'Engineering'\n",
      " 'Economics' 'Chemistry']\n"
     ]
    }
   ],
   "source": [
    "#Array of Major\n",
    "print(df_students['Major'].unique())"
   ]
  },
  {
   "cell_type": "code",
   "execution_count": 27,
   "id": "55901e91-c10a-4baa-80a9-c2de5523f015",
   "metadata": {},
   "outputs": [
    {
     "name": "stdout",
     "output_type": "stream",
     "text": [
      "\n",
      "Last Name:\n",
      "['Chan' 'Li' 'Wong' 'Zhang' 'Chen' 'Liu' 'Tan' 'Wu' 'Ho' 'Ma' 'Cheung'\n",
      " 'Lau' 'Yang' 'Tsang' 'Chow' 'Fung' 'Kwok' 'Yip' 'Ng' 'Lam' 'Leung' 'Choi'\n",
      " 'Hui' 'Tam' 'So' 'Poon' 'Cheng' 'Lai' 'Yau' 'Au'] \n",
      "Counts of each Last Name:\n",
      "Last_Name\n",
      "Fung      5\n",
      "Lam       5\n",
      "Yip       5\n",
      "Kwok      5\n",
      "Chow      5\n",
      "Tsang     5\n",
      "Yang      5\n",
      "Lau       5\n",
      "Cheung    5\n",
      "Ng        5\n",
      "Hui       4\n",
      "Tam       4\n",
      "So        4\n",
      "Poon      4\n",
      "Cheng     4\n",
      "Leung     4\n",
      "Lai       4\n",
      "Yau       4\n",
      "Choi      4\n",
      "Au        4\n",
      "Li        1\n",
      "Ma        1\n",
      "Ho        1\n",
      "Wu        1\n",
      "Tan       1\n",
      "Liu       1\n",
      "Chen      1\n",
      "Zhang     1\n",
      "Wong      1\n",
      "Chan      1\n",
      "Name: count, dtype: int64\n"
     ]
    }
   ],
   "source": [
    "print(f\"\\nLast Name:\\n{df_students['Last_Name'].unique()} \\nCounts of each Last Name:\\n{df_students['Last_Name'].value_counts()}\")"
   ]
  },
  {
   "cell_type": "code",
   "execution_count": 30,
   "id": "1f98e15b-dc19-419e-909a-ad07dacca87d",
   "metadata": {},
   "outputs": [
    {
     "data": {
      "text/html": [
       "<div>\n",
       "<style scoped>\n",
       "    .dataframe tbody tr th:only-of-type {\n",
       "        vertical-align: middle;\n",
       "    }\n",
       "\n",
       "    .dataframe tbody tr th {\n",
       "        vertical-align: top;\n",
       "    }\n",
       "\n",
       "    .dataframe thead th {\n",
       "        text-align: right;\n",
       "    }\n",
       "</style>\n",
       "<table border=\"1\" class=\"dataframe\">\n",
       "  <thead>\n",
       "    <tr style=\"text-align: right;\">\n",
       "      <th></th>\n",
       "      <th>Math_Score</th>\n",
       "      <th>English_Score</th>\n",
       "      <th>Age</th>\n",
       "    </tr>\n",
       "  </thead>\n",
       "  <tbody>\n",
       "    <tr>\n",
       "      <th>Math_Score</th>\n",
       "      <td>66.024646</td>\n",
       "      <td>66.540404</td>\n",
       "      <td>2.774343</td>\n",
       "    </tr>\n",
       "    <tr>\n",
       "      <th>English_Score</th>\n",
       "      <td>66.540404</td>\n",
       "      <td>67.280303</td>\n",
       "      <td>2.891414</td>\n",
       "    </tr>\n",
       "    <tr>\n",
       "      <th>Age</th>\n",
       "      <td>2.774343</td>\n",
       "      <td>2.891414</td>\n",
       "      <td>2.010000</td>\n",
       "    </tr>\n",
       "  </tbody>\n",
       "</table>\n",
       "</div>"
      ],
      "text/plain": [
       "               Math_Score  English_Score       Age\n",
       "Math_Score      66.024646      66.540404  2.774343\n",
       "English_Score   66.540404      67.280303  2.891414\n",
       "Age              2.774343       2.891414  2.010000"
      ]
     },
     "execution_count": 30,
     "metadata": {},
     "output_type": "execute_result"
    }
   ],
   "source": [
    "#covariance matrix\n",
    "df_students[['Math_Score','English_Score','Age']].cov()"
   ]
  },
  {
   "cell_type": "code",
   "execution_count": 32,
   "id": "ab24e977-af74-4d68-8e21-37b28db39e31",
   "metadata": {},
   "outputs": [
    {
     "data": {
      "text/html": [
       "<div>\n",
       "<style scoped>\n",
       "    .dataframe tbody tr th:only-of-type {\n",
       "        vertical-align: middle;\n",
       "    }\n",
       "\n",
       "    .dataframe tbody tr th {\n",
       "        vertical-align: top;\n",
       "    }\n",
       "\n",
       "    .dataframe thead th {\n",
       "        text-align: right;\n",
       "    }\n",
       "</style>\n",
       "<table border=\"1\" class=\"dataframe\">\n",
       "  <thead>\n",
       "    <tr style=\"text-align: right;\">\n",
       "      <th></th>\n",
       "      <th>Math_Score</th>\n",
       "      <th>Attendance_Rate</th>\n",
       "    </tr>\n",
       "  </thead>\n",
       "  <tbody>\n",
       "    <tr>\n",
       "      <th>Math_Score</th>\n",
       "      <td>66.024646</td>\n",
       "      <td>0.240384</td>\n",
       "    </tr>\n",
       "    <tr>\n",
       "      <th>Attendance_Rate</th>\n",
       "      <td>0.240384</td>\n",
       "      <td>0.000953</td>\n",
       "    </tr>\n",
       "  </tbody>\n",
       "</table>\n",
       "</div>"
      ],
      "text/plain": [
       "                 Math_Score  Attendance_Rate\n",
       "Math_Score        66.024646         0.240384\n",
       "Attendance_Rate    0.240384         0.000953"
      ]
     },
     "execution_count": 32,
     "metadata": {},
     "output_type": "execute_result"
    }
   ],
   "source": [
    "df_students[['Math_Score','Attendance_Rate']].cov()"
   ]
  },
  {
   "cell_type": "code",
   "execution_count": 37,
   "id": "f8fc571f-a7fb-497a-9502-eb9e6789e531",
   "metadata": {},
   "outputs": [
    {
     "data": {
      "text/html": [
       "<div>\n",
       "<style scoped>\n",
       "    .dataframe tbody tr th:only-of-type {\n",
       "        vertical-align: middle;\n",
       "    }\n",
       "\n",
       "    .dataframe tbody tr th {\n",
       "        vertical-align: top;\n",
       "    }\n",
       "\n",
       "    .dataframe thead th {\n",
       "        text-align: right;\n",
       "    }\n",
       "</style>\n",
       "<table border=\"1\" class=\"dataframe\">\n",
       "  <thead>\n",
       "    <tr style=\"text-align: right;\">\n",
       "      <th></th>\n",
       "      <th>Math_Score</th>\n",
       "      <th>English_Score</th>\n",
       "      <th>GPA</th>\n",
       "      <th>Attendance_Rate</th>\n",
       "    </tr>\n",
       "  </thead>\n",
       "  <tbody>\n",
       "    <tr>\n",
       "      <th>Math_Score</th>\n",
       "      <td>1.000000</td>\n",
       "      <td>0.998363</td>\n",
       "      <td>0.991129</td>\n",
       "      <td>0.958548</td>\n",
       "    </tr>\n",
       "    <tr>\n",
       "      <th>English_Score</th>\n",
       "      <td>0.998363</td>\n",
       "      <td>1.000000</td>\n",
       "      <td>0.990434</td>\n",
       "      <td>0.955028</td>\n",
       "    </tr>\n",
       "    <tr>\n",
       "      <th>GPA</th>\n",
       "      <td>0.991129</td>\n",
       "      <td>0.990434</td>\n",
       "      <td>1.000000</td>\n",
       "      <td>0.966327</td>\n",
       "    </tr>\n",
       "    <tr>\n",
       "      <th>Attendance_Rate</th>\n",
       "      <td>0.958548</td>\n",
       "      <td>0.955028</td>\n",
       "      <td>0.966327</td>\n",
       "      <td>1.000000</td>\n",
       "    </tr>\n",
       "  </tbody>\n",
       "</table>\n",
       "</div>"
      ],
      "text/plain": [
       "                 Math_Score  English_Score       GPA  Attendance_Rate\n",
       "Math_Score         1.000000       0.998363  0.991129         0.958548\n",
       "English_Score      0.998363       1.000000  0.990434         0.955028\n",
       "GPA                0.991129       0.990434  1.000000         0.966327\n",
       "Attendance_Rate    0.958548       0.955028  0.966327         1.000000"
      ]
     },
     "execution_count": 37,
     "metadata": {},
     "output_type": "execute_result"
    }
   ],
   "source": [
    "# correlation matrix\n",
    "df_students[['Math_Score','English_Score','GPA','Attendance_Rate']].corr()"
   ]
  },
  {
   "cell_type": "code",
   "execution_count": null,
   "id": "b189c10e-a902-42ba-96c5-b4100dbeacb4",
   "metadata": {},
   "outputs": [],
   "source": []
  }
 ],
 "metadata": {
  "kernelspec": {
   "display_name": "Python [conda env:base] *",
   "language": "python",
   "name": "conda-base-py"
  },
  "language_info": {
   "codemirror_mode": {
    "name": "ipython",
    "version": 3
   },
   "file_extension": ".py",
   "mimetype": "text/x-python",
   "name": "python",
   "nbconvert_exporter": "python",
   "pygments_lexer": "ipython3",
   "version": "3.12.7"
  }
 },
 "nbformat": 4,
 "nbformat_minor": 5
}
