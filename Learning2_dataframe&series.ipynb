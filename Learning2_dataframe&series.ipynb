{
 "cells": [
  {
   "cell_type": "code",
   "execution_count": 65,
   "id": "5823bdb6-5483-46b6-8e81-f4c54a47d6f7",
   "metadata": {},
   "outputs": [],
   "source": [
    "import pandas as pd\n",
    "import numpy as ny\n",
    "\n"
   ]
  },
  {
   "cell_type": "code",
   "execution_count": 78,
   "id": "bbbedee8-ce70-4719-b9a1-73978b4e18bb",
   "metadata": {},
   "outputs": [],
   "source": [
    "# Series\n",
    "s1 = pd.Series(['Alex','Bella','Serco','Jack','Nomber'], index = ['a','b','c','d','e'])"
   ]
  },
  {
   "cell_type": "code",
   "execution_count": 79,
   "id": "45c056a3-649f-4f6f-b5f8-8a198844e54d",
   "metadata": {},
   "outputs": [
    {
     "data": {
      "text/plain": [
       "a      Alex\n",
       "b     Bella\n",
       "c     Serco\n",
       "d      Jack\n",
       "e    Nomber\n",
       "dtype: object"
      ]
     },
     "execution_count": 79,
     "metadata": {},
     "output_type": "execute_result"
    }
   ],
   "source": [
    "s1"
   ]
  },
  {
   "cell_type": "code",
   "execution_count": 80,
   "id": "97485c3a-8218-458a-8d8b-659bf5df2d45",
   "metadata": {},
   "outputs": [
    {
     "data": {
      "text/plain": [
       "Index(['a', 'b', 'c', 'd', 'e'], dtype='object')"
      ]
     },
     "execution_count": 80,
     "metadata": {},
     "output_type": "execute_result"
    }
   ],
   "source": [
    "s1.index"
   ]
  },
  {
   "cell_type": "code",
   "execution_count": 81,
   "id": "882e5933-b198-4a6a-a95e-a0b512b3d190",
   "metadata": {},
   "outputs": [
    {
     "data": {
      "text/plain": [
       "dtype('O')"
      ]
     },
     "execution_count": 81,
     "metadata": {},
     "output_type": "execute_result"
    }
   ],
   "source": [
    "s1.dtypes"
   ]
  },
  {
   "cell_type": "code",
   "execution_count": 82,
   "id": "153672fc-e6a5-4563-9c1f-9eff30612b18",
   "metadata": {},
   "outputs": [
    {
     "data": {
      "text/plain": [
       "dtype('O')"
      ]
     },
     "execution_count": 82,
     "metadata": {},
     "output_type": "execute_result"
    }
   ],
   "source": [
    "s1.dtype"
   ]
  },
  {
   "cell_type": "code",
   "execution_count": 83,
   "id": "6ee753e3-3687-46d8-94ba-cd7cfc5d70ae",
   "metadata": {},
   "outputs": [
    {
     "data": {
      "text/plain": [
       "array(['Alex', 'Bella', 'Serco', 'Jack', 'Nomber'], dtype=object)"
      ]
     },
     "execution_count": 83,
     "metadata": {},
     "output_type": "execute_result"
    }
   ],
   "source": [
    "s1.values"
   ]
  },
  {
   "cell_type": "code",
   "execution_count": 84,
   "id": "72b978d8-7882-4879-8b53-8f0cafa134c9",
   "metadata": {},
   "outputs": [],
   "source": [
    "s2 ={'A':1,'B':2}"
   ]
  },
  {
   "cell_type": "code",
   "execution_count": 85,
   "id": "6cd0eb4a-59c2-4247-9f61-595f42ce1a3b",
   "metadata": {},
   "outputs": [],
   "source": [
    "s2_1 = pd.Series(s2)"
   ]
  },
  {
   "cell_type": "code",
   "execution_count": 86,
   "id": "d39e23bd-223d-4f62-a94d-109978c0ac4c",
   "metadata": {},
   "outputs": [
    {
     "data": {
      "text/plain": [
       "A    1\n",
       "B    2\n",
       "dtype: int64"
      ]
     },
     "execution_count": 86,
     "metadata": {},
     "output_type": "execute_result"
    }
   ],
   "source": [
    "s2_1"
   ]
  },
  {
   "cell_type": "code",
   "execution_count": 87,
   "id": "0103fc0d-7e7a-4d93-9fd0-d9926728da4f",
   "metadata": {},
   "outputs": [
    {
     "data": {
      "text/plain": [
       "a      Alex\n",
       "b     Bella\n",
       "c     Serco\n",
       "d      Jack\n",
       "e    Nomber\n",
       "dtype: object"
      ]
     },
     "execution_count": 87,
     "metadata": {},
     "output_type": "execute_result"
    }
   ],
   "source": [
    "s1"
   ]
  },
  {
   "cell_type": "code",
   "execution_count": 88,
   "id": "01c8b031-5134-4add-9938-79d808d17dda",
   "metadata": {},
   "outputs": [
    {
     "data": {
      "text/plain": [
       "'Alex'"
      ]
     },
     "execution_count": 88,
     "metadata": {},
     "output_type": "execute_result"
    }
   ],
   "source": [
    "s1['a']"
   ]
  },
  {
   "cell_type": "code",
   "execution_count": 89,
   "id": "754f6783-4c92-418d-993a-7a0e2e109658",
   "metadata": {},
   "outputs": [
    {
     "data": {
      "text/plain": [
       "str"
      ]
     },
     "execution_count": 89,
     "metadata": {},
     "output_type": "execute_result"
    }
   ],
   "source": [
    "type(s1[\"a\"])"
   ]
  },
  {
   "cell_type": "code",
   "execution_count": 90,
   "id": "3544d569-72aa-4a2a-92d1-c79ab9981edb",
   "metadata": {},
   "outputs": [
    {
     "data": {
      "text/plain": [
       "numpy.int64"
      ]
     },
     "execution_count": 90,
     "metadata": {},
     "output_type": "execute_result"
    }
   ],
   "source": [
    "type(s2_1[\"A\"])"
   ]
  },
  {
   "cell_type": "code",
   "execution_count": 94,
   "id": "babfbec8-f079-4fe0-a3b4-90c4f034bc02",
   "metadata": {},
   "outputs": [
    {
     "data": {
      "text/plain": [
       "pandas.core.series.Series"
      ]
     },
     "execution_count": 94,
     "metadata": {},
     "output_type": "execute_result"
    }
   ],
   "source": [
    "type(s1[[\"a\",\"b\"]])"
   ]
  },
  {
   "cell_type": "code",
   "execution_count": 96,
   "id": "1f702f02-9cf6-45c3-a9b5-9370c1fe8931",
   "metadata": {},
   "outputs": [
    {
     "data": {
      "text/plain": [
       "a     Alex\n",
       "b    Bella\n",
       "dtype: object"
      ]
     },
     "execution_count": 96,
     "metadata": {},
     "output_type": "execute_result"
    }
   ],
   "source": [
    "s1[['a','b']]"
   ]
  },
  {
   "cell_type": "code",
   "execution_count": 97,
   "id": "e4f02b78-2060-4c37-8c8d-ab4880f813ad",
   "metadata": {},
   "outputs": [
    {
     "name": "stdout",
     "output_type": "stream",
     "text": [
      "Alex\n"
     ]
    }
   ],
   "source": [
    "print(s1['a'])"
   ]
  },
  {
   "cell_type": "code",
   "execution_count": 98,
   "id": "36d8a04c-f135-4510-b9db-5ce546735a4e",
   "metadata": {},
   "outputs": [],
   "source": [
    "#DataFrame"
   ]
  },
  {
   "cell_type": "code",
   "execution_count": 108,
   "id": "83c9d720-b206-4dc4-a769-e7c032c1c55f",
   "metadata": {},
   "outputs": [],
   "source": [
    "data1 ={\n",
    "    \n",
    "    \"Name\":['Alex','Bella','Serco','Jack','Nomber','Jacky'],\n",
    "    \"Age\":[22,32,33,22,25,40],\n",
    "    \"Course\":['Maths','Phy','English','Chinese','Mandarin','Accounting'],\n",
    "    \"Score\":[80,90,50,70,66,40]\n",
    "}"
   ]
  },
  {
   "cell_type": "code",
   "execution_count": 109,
   "id": "33f762f0-1bc4-4125-9c29-3623b782d57c",
   "metadata": {},
   "outputs": [],
   "source": [
    "df1 =pd.DataFrame(data1)"
   ]
  },
  {
   "cell_type": "code",
   "execution_count": 110,
   "id": "0f2d7a8f-3a73-4b8e-9dbf-e6355bcdd0a1",
   "metadata": {},
   "outputs": [
    {
     "data": {
      "text/html": [
       "<div>\n",
       "<style scoped>\n",
       "    .dataframe tbody tr th:only-of-type {\n",
       "        vertical-align: middle;\n",
       "    }\n",
       "\n",
       "    .dataframe tbody tr th {\n",
       "        vertical-align: top;\n",
       "    }\n",
       "\n",
       "    .dataframe thead th {\n",
       "        text-align: right;\n",
       "    }\n",
       "</style>\n",
       "<table border=\"1\" class=\"dataframe\">\n",
       "  <thead>\n",
       "    <tr style=\"text-align: right;\">\n",
       "      <th></th>\n",
       "      <th>Name</th>\n",
       "      <th>Age</th>\n",
       "      <th>Course</th>\n",
       "      <th>Score</th>\n",
       "    </tr>\n",
       "  </thead>\n",
       "  <tbody>\n",
       "    <tr>\n",
       "      <th>0</th>\n",
       "      <td>Alex</td>\n",
       "      <td>22</td>\n",
       "      <td>Maths</td>\n",
       "      <td>80</td>\n",
       "    </tr>\n",
       "    <tr>\n",
       "      <th>1</th>\n",
       "      <td>Bella</td>\n",
       "      <td>32</td>\n",
       "      <td>Phy</td>\n",
       "      <td>90</td>\n",
       "    </tr>\n",
       "    <tr>\n",
       "      <th>2</th>\n",
       "      <td>Serco</td>\n",
       "      <td>33</td>\n",
       "      <td>English</td>\n",
       "      <td>50</td>\n",
       "    </tr>\n",
       "    <tr>\n",
       "      <th>3</th>\n",
       "      <td>Jack</td>\n",
       "      <td>22</td>\n",
       "      <td>Chinese</td>\n",
       "      <td>70</td>\n",
       "    </tr>\n",
       "    <tr>\n",
       "      <th>4</th>\n",
       "      <td>Nomber</td>\n",
       "      <td>25</td>\n",
       "      <td>Mandarin</td>\n",
       "      <td>66</td>\n",
       "    </tr>\n",
       "    <tr>\n",
       "      <th>5</th>\n",
       "      <td>Jacky</td>\n",
       "      <td>40</td>\n",
       "      <td>Accounting</td>\n",
       "      <td>40</td>\n",
       "    </tr>\n",
       "  </tbody>\n",
       "</table>\n",
       "</div>"
      ],
      "text/plain": [
       "     Name  Age      Course  Score\n",
       "0    Alex   22       Maths     80\n",
       "1   Bella   32         Phy     90\n",
       "2   Serco   33     English     50\n",
       "3    Jack   22     Chinese     70\n",
       "4  Nomber   25    Mandarin     66\n",
       "5   Jacky   40  Accounting     40"
      ]
     },
     "execution_count": 110,
     "metadata": {},
     "output_type": "execute_result"
    }
   ],
   "source": [
    "df1"
   ]
  },
  {
   "cell_type": "code",
   "execution_count": 111,
   "id": "193d2ddc-db0f-4c9b-a5e0-f16572f3031c",
   "metadata": {},
   "outputs": [
    {
     "data": {
      "text/plain": [
       "Name      object\n",
       "Age        int64\n",
       "Course    object\n",
       "Score      int64\n",
       "dtype: object"
      ]
     },
     "execution_count": 111,
     "metadata": {},
     "output_type": "execute_result"
    }
   ],
   "source": [
    "df1.dtypes"
   ]
  },
  {
   "cell_type": "code",
   "execution_count": 112,
   "id": "488609de-94b5-44ad-ac26-ddb367923b55",
   "metadata": {},
   "outputs": [
    {
     "data": {
      "text/plain": [
       "Index(['Name', 'Age', 'Course', 'Score'], dtype='object')"
      ]
     },
     "execution_count": 112,
     "metadata": {},
     "output_type": "execute_result"
    }
   ],
   "source": [
    "df1.columns"
   ]
  },
  {
   "cell_type": "code",
   "execution_count": 113,
   "id": "7aedd301-57f4-4729-862d-e7d1d3eb3316",
   "metadata": {},
   "outputs": [],
   "source": [
    "#query Series in DataFlame"
   ]
  },
  {
   "cell_type": "code",
   "execution_count": 114,
   "id": "c087ef1c-c466-49dd-a159-5df11d751101",
   "metadata": {},
   "outputs": [
    {
     "data": {
      "text/plain": [
       "0      Alex\n",
       "1     Bella\n",
       "2     Serco\n",
       "3      Jack\n",
       "4    Nomber\n",
       "5     Jacky\n",
       "Name: Name, dtype: object"
      ]
     },
     "execution_count": 114,
     "metadata": {},
     "output_type": "execute_result"
    }
   ],
   "source": [
    "df1['Name']"
   ]
  },
  {
   "cell_type": "code",
   "execution_count": 115,
   "id": "6f1f521e-b143-4988-a483-91c38a75504b",
   "metadata": {},
   "outputs": [
    {
     "data": {
      "text/plain": [
       "pandas.core.series.Series"
      ]
     },
     "execution_count": 115,
     "metadata": {},
     "output_type": "execute_result"
    }
   ],
   "source": [
    "type(df1['Name'])"
   ]
  },
  {
   "cell_type": "code",
   "execution_count": 116,
   "id": "248610e9-d981-4c79-8304-94cf3fb5d267",
   "metadata": {},
   "outputs": [
    {
     "data": {
      "text/plain": [
       "pandas.core.frame.DataFrame"
      ]
     },
     "execution_count": 116,
     "metadata": {},
     "output_type": "execute_result"
    }
   ],
   "source": [
    "type(df1[['Name','Score']])"
   ]
  },
  {
   "cell_type": "code",
   "execution_count": 119,
   "id": "41375026-792b-4a96-b54e-07f76dd479bf",
   "metadata": {},
   "outputs": [
    {
     "name": "stdout",
     "output_type": "stream",
     "text": [
      "New Excel file 'Candidate.xlsx' saved successfully in your current directory.\n"
     ]
    }
   ],
   "source": [
    "excel_file ='Candidate.xlsx'\n",
    "df1.to_excel(excel_file, index = False, sheet_name ='Candidate')\n",
    "print(f\"New Excel file '{excel_file}' saved successfully in your current directory.\")"
   ]
  },
  {
   "cell_type": "code",
   "execution_count": 122,
   "id": "822be3dc-9bf6-4eb7-98c2-7f204ab3c7ec",
   "metadata": {},
   "outputs": [
    {
     "data": {
      "text/plain": [
       "b    Bella\n",
       "c    Serco\n",
       "dtype: object"
      ]
     },
     "execution_count": 122,
     "metadata": {},
     "output_type": "execute_result"
    }
   ],
   "source": [
    "s1.loc[['b','c']]"
   ]
  },
  {
   "cell_type": "code",
   "execution_count": null,
   "id": "ae490a40-b1d2-4c55-bfac-69cce5a2f82e",
   "metadata": {},
   "outputs": [],
   "source": []
  }
 ],
 "metadata": {
  "kernelspec": {
   "display_name": "Python [conda env:base] *",
   "language": "python",
   "name": "conda-base-py"
  },
  "language_info": {
   "codemirror_mode": {
    "name": "ipython",
    "version": 3
   },
   "file_extension": ".py",
   "mimetype": "text/x-python",
   "name": "python",
   "nbconvert_exporter": "python",
   "pygments_lexer": "ipython3",
   "version": "3.12.7"
  }
 },
 "nbformat": 4,
 "nbformat_minor": 5
}
